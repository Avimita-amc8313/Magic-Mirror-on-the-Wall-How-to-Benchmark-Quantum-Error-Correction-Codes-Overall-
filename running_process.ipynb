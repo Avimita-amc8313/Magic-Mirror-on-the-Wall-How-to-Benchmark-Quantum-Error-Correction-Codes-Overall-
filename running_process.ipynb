{
 "cells": [
  {
   "cell_type": "code",
   "execution_count": 1,
   "metadata": {},
   "outputs": [
    {
     "name": "stdout",
     "output_type": "stream",
     "text": [
      "After sorting and max distance calculation for scenario1 : [('QRep', 100), ('Surface', 10), ('HeavyHexagon', 6)]\n",
      "After sorting and max distance calculation for scenario2 : [('Steane', None), ('Surface', 17)]\n",
      "After sorting and max distance calculation for scenario3 : [('HeavyHexagon', 11)]\n"
     ]
    }
   ],
   "source": [
    "# With debug_mode=False\n",
    "%run recommend_qecc.py"
   ]
  },
  {
   "cell_type": "code",
   "execution_count": 2,
   "metadata": {},
   "outputs": [
    {
     "name": "stdout",
     "output_type": "stream",
     "text": [
      "\n",
      "Processing scenario1\n",
      "After filter 1 (error type): ['QRep', 'Shor', 'Steane', 'Toric', 'Surface', 'BaconShor', '3DColor', 'HeavyHexagon']\n",
      "After filter 2 (qType): ['QRep', 'Surface', 'HeavyHexagon']\n",
      "After filter 3 (scalability): ['QRep', 'Surface', 'HeavyHexagon']\n",
      "After filter 3a (transversal gate and Steane exclusion): ['QRep', 'Surface', 'HeavyHexagon']\n",
      "After filter 4 (average error): ['QRep', 'Surface', 'HeavyHexagon']\n",
      "After sorting and max distance calculation for scenario1 : [('QRep', 100), ('Surface', 10), ('HeavyHexagon', 6)]\n",
      "\n",
      "Processing scenario2\n",
      "After filter 1 (error type): ['Shor', 'Steane', 'Toric', 'Surface', 'BaconShor', '3DColor', 'HeavyHexagon']\n",
      "After filter 2 (qType): ['Steane', 'Surface']\n",
      "After filter 3 (scalability): ['Steane', 'Surface']\n",
      "After filter 3a (transversal gate and Steane exclusion): ['Steane', 'Surface']\n",
      "After filter 4 (average error): ['Steane', 'Surface']\n",
      "After sorting and max distance calculation for scenario2 : [('Steane', None), ('Surface', 17)]\n",
      "\n",
      "Processing scenario3\n",
      "After filter 1 (error type): ['Shor', 'Steane', 'Toric', 'Surface', 'BaconShor', '3DColor', 'HeavyHexagon']\n",
      "After filter 2 (qType): ['Shor', 'Steane', 'Toric', 'Surface', 'BaconShor', '3DColor', 'HeavyHexagon']\n",
      "After filter 3 (scalability): ['Steane', 'Toric', 'Surface', 'BaconShor', '3DColor', 'HeavyHexagon']\n",
      "After filter 3a (transversal gate and Steane exclusion): ['Toric', 'Surface', 'BaconShor', '3DColor', 'HeavyHexagon']\n",
      "After filter 4 (average error): ['HeavyHexagon']\n",
      "After sorting and max distance calculation for scenario3 : [('HeavyHexagon', 11)]\n"
     ]
    }
   ],
   "source": [
    "# With debug_mode=True\n",
    "%run recommend_qecc.py"
   ]
  }
 ],
 "metadata": {
  "kernelspec": {
   "display_name": "base",
   "language": "python",
   "name": "python3"
  },
  "language_info": {
   "codemirror_mode": {
    "name": "ipython",
    "version": 3
   },
   "file_extension": ".py",
   "mimetype": "text/x-python",
   "name": "python",
   "nbconvert_exporter": "python",
   "pygments_lexer": "ipython3",
   "version": "3.11.4"
  }
 },
 "nbformat": 4,
 "nbformat_minor": 2
}
